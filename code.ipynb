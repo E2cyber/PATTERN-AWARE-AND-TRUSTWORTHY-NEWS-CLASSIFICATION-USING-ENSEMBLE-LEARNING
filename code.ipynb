{
 "cells": [
  {
   "cell_type": "code",
   "execution_count": 1,
   "metadata": {},
   "outputs": [],
   "source": [
    "import re"
   ]
  },
  {
   "cell_type": "code",
   "execution_count": 2,
   "metadata": {},
   "outputs": [],
   "source": [
    "from tqdm import tqdm"
   ]
  },
  {
   "cell_type": "code",
   "execution_count": 3,
   "metadata": {},
   "outputs": [],
   "source": [
    "import numpy as np"
   ]
  },
  {
   "cell_type": "code",
   "execution_count": 4,
   "metadata": {},
   "outputs": [],
   "source": [
    "import pandas as pd"
   ]
  },
  {
   "cell_type": "code",
   "execution_count": 5,
   "metadata": {},
   "outputs": [],
   "source": [
    "import plotly.express as px"
   ]
  },
  {
   "cell_type": "code",
   "execution_count": 6,
   "metadata": {},
   "outputs": [],
   "source": [
    "import matplotlib.pyplot as plt"
   ]
  },
  {
   "cell_type": "code",
   "execution_count": 7,
   "metadata": {},
   "outputs": [],
   "source": [
    "import seaborn as sns"
   ]
  },
  {
   "cell_type": "code",
   "execution_count": 8,
   "metadata": {},
   "outputs": [],
   "source": [
    "import nltk"
   ]
  },
  {
   "cell_type": "code",
   "execution_count": 9,
   "metadata": {},
   "outputs": [
    {
     "name": "stderr",
     "output_type": "stream",
     "text": [
      "[nltk_data] Downloading package stopwords to\n",
      "[nltk_data]     s:\\anacondaprogramdata\\anaconda3\\nltk_data...\n",
      "[nltk_data]   Package stopwords is already up-to-date!\n"
     ]
    },
    {
     "data": {
      "text/plain": [
       "True"
      ]
     },
     "execution_count": 9,
     "metadata": {},
     "output_type": "execute_result"
    }
   ],
   "source": [
    "nltk.download('stopwords')"
   ]
  },
  {
   "cell_type": "code",
   "execution_count": 10,
   "metadata": {},
   "outputs": [],
   "source": [
    "from nltk.corpus import stopwords"
   ]
  },
  {
   "cell_type": "code",
   "execution_count": 11,
   "metadata": {},
   "outputs": [],
   "source": [
    "from nltk.stem import WordNetLemmatizer"
   ]
  },
  {
   "cell_type": "code",
   "execution_count": 12,
   "metadata": {},
   "outputs": [
    {
     "name": "stderr",
     "output_type": "stream",
     "text": [
      "[nltk_data] Downloading package wordnet to\n",
      "[nltk_data]     s:\\anacondaprogramdata\\anaconda3\\nltk_data...\n",
      "[nltk_data]   Package wordnet is already up-to-date!\n"
     ]
    },
    {
     "data": {
      "text/plain": [
       "True"
      ]
     },
     "execution_count": 12,
     "metadata": {},
     "output_type": "execute_result"
    }
   ],
   "source": [
    "nltk.download('wordnet')"
   ]
  },
  {
   "cell_type": "code",
   "execution_count": 13,
   "metadata": {},
   "outputs": [],
   "source": [
    "from sklearn.model_selection import train_test_split"
   ]
  },
  {
   "cell_type": "code",
   "execution_count": 14,
   "metadata": {},
   "outputs": [],
   "source": [
    "from sklearn.feature_extraction.text import TfidfVectorizer"
   ]
  },
  {
   "cell_type": "code",
   "execution_count": 15,
   "metadata": {},
   "outputs": [],
   "source": [
    "from sklearn.metrics import classification_report,average_precision_score,accuracy_score, precision_recall_curve, classification_report"
   ]
  },
  {
   "cell_type": "code",
   "execution_count": 80,
   "metadata": {},
   "outputs": [],
   "source": [
    "from sklearn.metrics import accuracy_score, f1_score"
   ]
  },
  {
   "cell_type": "code",
   "execution_count": 16,
   "metadata": {},
   "outputs": [],
   "source": [
    "from focal_loss import BinaryFocalLoss"
   ]
  },
  {
   "cell_type": "code",
   "execution_count": 17,
   "metadata": {},
   "outputs": [],
   "source": [
    "import tensorflow as tf"
   ]
  },
  {
   "cell_type": "code",
   "execution_count": 18,
   "metadata": {},
   "outputs": [],
   "source": [
    "from tensorflow.keras.models import Model"
   ]
  },
  {
   "cell_type": "code",
   "execution_count": 19,
   "metadata": {},
   "outputs": [],
   "source": [
    "from tensorflow.keras.layers import Input, Embedding, SimpleRNN, Dense, concatenate, LSTM"
   ]
  },
  {
   "cell_type": "code",
   "execution_count": 20,
   "metadata": {},
   "outputs": [],
   "source": [
    "from tensorflow.keras.utils import plot_model"
   ]
  },
  {
   "cell_type": "code",
   "execution_count": 21,
   "metadata": {},
   "outputs": [],
   "source": [
    "from tensorflow.keras.regularizers import l2"
   ]
  },
  {
   "cell_type": "code",
   "execution_count": 22,
   "metadata": {},
   "outputs": [],
   "source": [
    "from tensorflow.keras.preprocessing.text import Tokenizer"
   ]
  },
  {
   "cell_type": "code",
   "execution_count": 23,
   "metadata": {},
   "outputs": [],
   "source": [
    "from tensorflow.keras.preprocessing.sequence import pad_sequences"
   ]
  },
  {
   "cell_type": "code",
   "execution_count": 24,
   "metadata": {},
   "outputs": [],
   "source": [
    "from tensorflow.keras.utils import to_categorical"
   ]
  },
  {
   "cell_type": "code",
   "execution_count": 25,
   "metadata": {},
   "outputs": [],
   "source": [
    "from tensorflow.keras.callbacks import EarlyStopping"
   ]
  },
  {
   "cell_type": "code",
   "execution_count": 26,
   "metadata": {},
   "outputs": [],
   "source": [
    "from tensorflow.keras.optimizers.schedules import ExponentialDecay"
   ]
  },
  {
   "cell_type": "code",
   "execution_count": 27,
   "metadata": {},
   "outputs": [],
   "source": [
    "import warnings \n",
    "warnings.filterwarnings('ignore')"
   ]
  },
  {
   "cell_type": "code",
   "execution_count": 28,
   "metadata": {},
   "outputs": [],
   "source": [
    "early_stopping = EarlyStopping(mode='min',patience=5)"
   ]
  },
  {
   "cell_type": "code",
   "execution_count": 74,
   "metadata": {},
   "outputs": [],
   "source": [
    "df = pd.read_csv(\"Dataset/train.csv\")"
   ]
  },
  {
   "cell_type": "code",
   "execution_count": 30,
   "metadata": {},
   "outputs": [],
   "source": [
    "df[\"abstract\"] = df['TITLE']+df['ABSTRACT']"
   ]
  },
  {
   "cell_type": "code",
   "execution_count": 31,
   "metadata": {},
   "outputs": [],
   "source": [
    "seqlen_title=df['TITLE'].apply(lambda x: len(x.split()))"
   ]
  },
  {
   "cell_type": "code",
   "execution_count": 32,
   "metadata": {},
   "outputs": [],
   "source": [
    "charlen_title=df['TITLE'].apply(lambda x: len(x))"
   ]
  },
  {
   "cell_type": "code",
   "execution_count": 33,
   "metadata": {},
   "outputs": [],
   "source": [
    "seqlen_abstract=df['ABSTRACT'].apply(lambda x: len(x.split()))"
   ]
  },
  {
   "cell_type": "code",
   "execution_count": 34,
   "metadata": {},
   "outputs": [],
   "source": [
    "charlen_abstract=df['ABSTRACT'].apply(lambda x: len(x))"
   ]
  },
  {
   "cell_type": "code",
   "execution_count": 35,
   "metadata": {},
   "outputs": [
    {
     "data": {
      "image/png": "[encoded data removed]",
      "text/plain": [
       "<Figure size 1296x360 with 1 Axes>"
      ]
     },
     "metadata": {},
     "output_type": "display_data"
    }
   ],
   "source": [
    "sns.set_style(\"darkgrid\")\n",
    "sns.displot(seqlen_title,bins=20,palette=\"bright\",rug=True, height=5, aspect=3.6);"
   ]
  },
  {
   "cell_type": "code",
   "execution_count": 36,
   "metadata": {},
   "outputs": [
    {
     "data": {
      "image/png": "[encoded data removed]",
      "text/plain": [
       "<Figure size 1296x360 with 1 Axes>"
      ]
     },
     "metadata": {},
     "output_type": "display_data"
    }
   ],
   "source": [
    "sns.set_style(\"darkgrid\")\n",
    "sns.displot(charlen_title,bins=20,palette=\"bright\",rug=True, height=5, aspect=3.6);"
   ]
  },
  {
   "cell_type": "code",
   "execution_count": 37,
   "metadata": {},
   "outputs": [
    {
     "data": {
      "image/png": "[encoded data removed]",
      "text/plain": [
       "<Figure size 1296x360 with 1 Axes>"
      ]
     },
     "metadata": {},
     "output_type": "display_data"
    }
   ],
   "source": [
    "sns.set_style(\"darkgrid\")\n",
    "sns.displot(seqlen_abstract,bins=20,palette=\"bright\",rug=True, height=5, aspect=3.6);"
   ]
  },
  {
   "cell_type": "code",
   "execution_count": 38,
   "metadata": {},
   "outputs": [
    {
     "data": {
      "image/png": "[encoded data removed]",
      "text/plain": [
       "<Figure size 1296x360 with 1 Axes>"
      ]
     },
     "metadata": {},
     "output_type": "display_data"
    }
   ],
   "source": [
    "sns.set_style(\"darkgrid\")\n",
    "sns.displot(charlen_abstract,bins=20,palette=\"bright\",rug=True, height=5, aspect=3.6);"
   ]
  },
  {
   "cell_type": "code",
   "execution_count": 39,
   "metadata": {},
   "outputs": [],
   "source": [
    "X = df['abstract']"
   ]
  },
  {
   "cell_type": "code",
   "execution_count": 40,
   "metadata": {},
   "outputs": [],
   "source": [
    "y = df.iloc[:,3:-1]"
   ]
  },
  {
   "cell_type": "code",
   "execution_count": null,
   "metadata": {},
   "outputs": [],
   "source": []
  },
  {
   "cell_type": "code",
   "execution_count": 41,
   "metadata": {},
   "outputs": [],
   "source": [
    "X_train,X_test,y_train,y_test = train_test_split(X,y,test_size = 0.2,random_state = 42)"
   ]
  },
  {
   "cell_type": "code",
   "execution_count": 42,
   "metadata": {},
   "outputs": [
    {
     "name": "stdout",
     "output_type": "stream",
     "text": [
      "X_train Size : (16777,) \n",
      "y_train Size : (16777, 6) \n",
      "X_test Size : (4195,) \n",
      "y_test Size : (4195, 6) \n"
     ]
    }
   ],
   "source": [
    "print(\"X_train Size : {} \".format(X_train.shape))\n",
    "print(\"y_train Size : {} \".format(y_train.shape))\n",
    "print(\"X_test Size : {} \".format(X_test.shape))\n",
    "print(\"y_test Size : {} \".format(y_test.shape))"
   ]
  },
  {
   "cell_type": "code",
   "execution_count": 43,
   "metadata": {},
   "outputs": [],
   "source": [
    "class TextCleaning:\n",
    "    def __init__(self,text):\n",
    "        self.stop_words = stopwords.words('english')\n",
    "        self.lemma = WordNetLemmatizer()\n",
    "        self.token = Tokenizer()\n",
    "        self.clean_data = list()\n",
    "        for sentence in tqdm(text):\n",
    "            sentence = self.remove_punctuations(sentence)\n",
    "            sentence = self.stop_word_remover(sentence)\n",
    "            sentence = self.lemmatization(sentence)\n",
    "            self.clean_data.append(sentence)            \n",
    "        self.token_sentence = self.tokenization(self.clean_data)\n",
    "        \n",
    "    def remove_punctuations(self,text):\n",
    "        text = text.lower()\n",
    "        text  = re.findall(\"[a-zA-Z]+\",text)\n",
    "        return text\n",
    "\n",
    "    def stop_word_remover(self,text):\n",
    "        text = [w for w in text if not w in self.stop_words]\n",
    "        return text\n",
    "    \n",
    "    def lemmatization(self,text):\n",
    "        text = \" \".join(self.lemma.lemmatize(w) for w in  text)\n",
    "        return text\n",
    "    \n",
    "    def tokenization(self,text):\n",
    "        self.token.fit_on_texts(text)\n",
    "        text = self.token.texts_to_sequences(text)\n",
    "        return text"
   ]
  },
  {
   "cell_type": "code",
   "execution_count": 44,
   "metadata": {},
   "outputs": [
    {
     "name": "stderr",
     "output_type": "stream",
     "text": [
      "100%|██████████████████████████████████████████████████████████████████████████| 16777/16777 [00:11<00:00, 1515.56it/s]\n",
      "100%|████████████████████████████████████████████████████████████████████████████| 4195/4195 [00:02<00:00, 1687.80it/s]\n"
     ]
    }
   ],
   "source": [
    "pre_train = TextCleaning(X_train)\n",
    "pre_test = TextCleaning(X_test)"
   ]
  },
  {
   "cell_type": "code",
   "execution_count": 45,
   "metadata": {},
   "outputs": [],
   "source": [
    "len_seq = list()\n",
    "for i in range(0,len(pre_train.token_sentence)):\n",
    "    len_seq.append(len(pre_train.token_sentence[i]))"
   ]
  },
  {
   "cell_type": "code",
   "execution_count": 46,
   "metadata": {},
   "outputs": [],
   "source": [
    "max_len_seq = max(len_seq)"
   ]
  },
  {
   "cell_type": "code",
   "execution_count": 47,
   "metadata": {},
   "outputs": [],
   "source": [
    "X_train_seq = pad_sequences(pre_train.token_sentence,maxlen = max_len_seq,padding = 'pre',truncating='post')"
   ]
  },
  {
   "cell_type": "code",
   "execution_count": 48,
   "metadata": {},
   "outputs": [],
   "source": [
    "X_test_seq = pad_sequences(pre_test.token_sentence,maxlen = max_len_seq,padding = 'pre',truncating='post')"
   ]
  },
  {
   "cell_type": "code",
   "execution_count": 49,
   "metadata": {},
   "outputs": [],
   "source": [
    "vocab_size = len(pre_train.token.word_index) + 1"
   ]
  },
  {
   "cell_type": "code",
   "execution_count": 56,
   "metadata": {},
   "outputs": [],
   "source": [
    "def create_semantic_interactive_learning_model(layer_type=\"rnn\"):\n",
    "    inputs_layer = Input(shape=(None,), name=\"input\")\n",
    "    x = Embedding(vocab_size, 300, input_length = max_len_seq, trainable = False)(inputs_layer)\n",
    "    if layer_type == \"rnn\":\n",
    "        x = SimpleRNN(64,kernel_regularizer=l2(0.01),activity_regularizer=l2(0.01))(x)\n",
    "    else:\n",
    "        x = LSTM(64,kernel_regularizer=l2(0.01),activity_regularizer=l2(0.01))(x)\n",
    "    cs_pred = Dense(1, activation='sigmoid',name='CS',kernel_regularizer=l2(0.01),activity_regularizer=l2(0.01))(x)\n",
    "    ph_pred = Dense(1, activation='sigmoid',name='PH',kernel_regularizer=l2(0.01),activity_regularizer=l2(0.01))(x)\n",
    "    math_pred = Dense(1, activation='sigmoid',name='MATH',kernel_regularizer=l2(0.01),activity_regularizer=l2(0.01))(x)\n",
    "    stat_pred = Dense(1, activation='sigmoid',name='STAT',kernel_regularizer=l2(0.01),activity_regularizer=l2(0.01))(x)\n",
    "    qb_pred = Dense(1, activation='sigmoid',name='QB',kernel_regularizer=l2(0.01),activity_regularizer=l2(0.01))(x)\n",
    "    qf_pred = Dense(1, activation='sigmoid',name='QF',kernel_regularizer=l2(0.01),activity_regularizer=l2(0.01))(x)\n",
    "    model = Model(inputs=[inputs_layer],outputs=[cs_pred,ph_pred,math_pred,stat_pred,qb_pred,qf_pred])\n",
    "    return model"
   ]
  },
  {
   "cell_type": "code",
   "execution_count": 57,
   "metadata": {},
   "outputs": [],
   "source": [
    "model = create_semantic_interactive_learning_model()"
   ]
  },
  {
   "cell_type": "code",
   "execution_count": 58,
   "metadata": {},
   "outputs": [
    {
     "name": "stdout",
     "output_type": "stream",
     "text": [
      "Model: \"model\"\n",
      "__________________________________________________________________________________________________\n",
      " Layer (type)                   Output Shape         Param #     Connected to                     \n",
      "==================================================================================================\n",
      " input (InputLayer)             [(None, None)]       0           []                               \n",
      "                                                                                                  \n",
      " embedding_3 (Embedding)        (None, None, 300)    12431100    ['input[0][0]']                  \n",
      "                                                                                                  \n",
      " simple_rnn_1 (SimpleRNN)       (None, 64)           23360       ['embedding_3[0][0]']            \n",
      "                                                                                                  \n",
      " CS (Dense)                     (None, 1)            65          ['simple_rnn_1[0][0]']           \n",
      "                                                                                                  \n",
      " PH (Dense)                     (None, 1)            65          ['simple_rnn_1[0][0]']           \n",
      "                                                                                                  \n",
      " MATH (Dense)                   (None, 1)            65          ['simple_rnn_1[0][0]']           \n",
      "                                                                                                  \n",
      " STAT (Dense)                   (None, 1)            65          ['simple_rnn_1[0][0]']           \n",
      "                                                                                                  \n",
      " QB (Dense)                     (None, 1)            65          ['simple_rnn_1[0][0]']           \n",
      "                                                                                                  \n",
      " QF (Dense)                     (None, 1)            65          ['simple_rnn_1[0][0]']           \n",
      "                                                                                                  \n",
      "==================================================================================================\n",
      "Total params: 12,454,850\n",
      "Trainable params: 23,750\n",
      "Non-trainable params: 12,431,100\n",
      "__________________________________________________________________________________________________\n"
     ]
    }
   ],
   "source": [
    "model.summary()"
   ]
  },
  {
   "cell_type": "code",
   "execution_count": 59,
   "metadata": {},
   "outputs": [
    {
     "data": {
      "image/png": "[encoded data removed]",
      "text/plain": [
       "<IPython.core.display.Image object>"
      ]
     },
     "execution_count": 59,
     "metadata": {},
     "output_type": "execute_result"
    }
   ],
   "source": [
    "plot_model(model,\"semantic_interactive_learning_rnn_model.png\")"
   ]
  },
  {
   "cell_type": "code",
   "execution_count": 60,
   "metadata": {},
   "outputs": [],
   "source": [
    "model.compile(\n",
    "    optimizer=tf.keras.optimizers.Adam(),\n",
    "    loss=BinaryFocalLoss(gamma=2),\n",
    "    metrics=['accuracy'],)"
   ]
  },
  {
   "cell_type": "code",
   "execution_count": 61,
   "metadata": {},
   "outputs": [],
   "source": [
    "no_of_epochs = 3"
   ]
  },
  {
   "cell_type": "code",
   "execution_count": 62,
   "metadata": {},
   "outputs": [
    {
     "name": "stdout",
     "output_type": "stream",
     "text": [
      "Epoch 1/3\n",
      "525/525 [==============================] - 28s 42ms/step - loss: 0.9259 - CS_loss: 0.1701 - PH_loss: 0.1528 - MATH_loss: 0.1478 - STAT_loss: 0.1435 - QB_loss: 0.0409 - QF_loss: 0.0256 - CS_accuracy: 0.5857 - PH_accuracy: 0.7098 - MATH_accuracy: 0.7326 - STAT_accuracy: 0.7512 - QB_accuracy: 0.9678 - QF_accuracy: 0.9831 - val_loss: 0.7396 - val_CS_loss: 0.1691 - val_PH_loss: 0.1533 - val_MATH_loss: 0.1504 - val_STAT_loss: 0.1450 - val_QB_loss: 0.0406 - val_QF_loss: 0.0220 - val_CS_accuracy: 0.5967 - val_PH_accuracy: 0.7077 - val_MATH_accuracy: 0.7259 - val_STAT_accuracy: 0.7452 - val_QB_accuracy: 0.9709 - val_QF_accuracy: 0.9893\n",
      "Epoch 2/3\n",
      "525/525 [==============================] - 25s 48ms/step - loss: 0.7206 - CS_loss: 0.1697 - PH_loss: 0.1519 - MATH_loss: 0.1476 - STAT_loss: 0.1431 - QB_loss: 0.0382 - QF_loss: 0.0222 - CS_accuracy: 0.5886 - PH_accuracy: 0.7147 - MATH_accuracy: 0.7337 - STAT_accuracy: 0.7534 - QB_accuracy: 0.9723 - QF_accuracy: 0.9878 - val_loss: 0.7157 - val_CS_loss: 0.1693 - val_PH_loss: 0.1533 - val_MATH_loss: 0.1495 - val_STAT_loss: 0.1450 - val_QB_loss: 0.0386 - val_QF_loss: 0.0199 - val_CS_accuracy: 0.5967 - val_PH_accuracy: 0.7077 - val_MATH_accuracy: 0.7259 - val_STAT_accuracy: 0.7452 - val_QB_accuracy: 0.9709 - val_QF_accuracy: 0.9893\n",
      "Epoch 3/3\n",
      "525/525 [==============================] - 21s 39ms/step - loss: 0.7068 - CS_loss: 0.1698 - PH_loss: 0.1520 - MATH_loss: 0.1478 - STAT_loss: 0.1430 - QB_loss: 0.0379 - QF_loss: 0.0219 - CS_accuracy: 0.5886 - PH_accuracy: 0.7147 - MATH_accuracy: 0.7337 - STAT_accuracy: 0.7534 - QB_accuracy: 0.9723 - QF_accuracy: 0.9878 - val_loss: 0.7064 - val_CS_loss: 0.1691 - val_PH_loss: 0.1533 - val_MATH_loss: 0.1495 - val_STAT_loss: 0.1451 - val_QB_loss: 0.0396 - val_QF_loss: 0.0207 - val_CS_accuracy: 0.5967 - val_PH_accuracy: 0.7077 - val_MATH_accuracy: 0.7259 - val_STAT_accuracy: 0.7452 - val_QB_accuracy: 0.9709 - val_QF_accuracy: 0.9893\n"
     ]
    }
   ],
   "source": [
    "history = model.fit({\"input\": X_train_seq,}, \n",
    "                    {'CS': y_train.iloc[:,0], 'PH':y_train.iloc[:,1], 'MATH': y_train.iloc[:,2], 'STAT': y_train.iloc[:,3], 'QB': y_train.iloc[:,4], 'QF': y_train.iloc[:,5]},\n",
    "                    epochs = no_of_epochs, \n",
    "                    validation_data =({\"input\": X_test_seq} ,\n",
    "                                     {'CS': y_test.iloc[:,0], 'PH':y_test.iloc[:,1], 'MATH': y_test.iloc[:,2], 'STAT': y_test.iloc[:,3], 'QB': y_test.iloc[:,4], 'QF': y_test.iloc[:,5]}),\n",
    "                    callbacks=early_stopping,\n",
    "                    verbose=True\n",
    "                   )"
   ]
  },
  {
   "cell_type": "code",
   "execution_count": 63,
   "metadata": {},
   "outputs": [
    {
     "data": {
      "image/png": "[encoded data removed]",
      "text/plain": [
       "<Figure size 432x288 with 1 Axes>"
      ]
     },
     "metadata": {},
     "output_type": "display_data"
    }
   ],
   "source": [
    "plt.plot(history.history['loss'])\n",
    "plt.plot(history.history['val_loss'])\n",
    "plt.title('model loss')\n",
    "plt.ylabel('loss')\n",
    "plt.xlabel('epoch')\n",
    "plt.legend(['train', 'test'], loc = 'upper right')\n",
    "plt.show()"
   ]
  },
  {
   "cell_type": "code",
   "execution_count": 64,
   "metadata": {},
   "outputs": [],
   "source": [
    "model = create_semantic_interactive_learning_model(\"lstm\")"
   ]
  },
  {
   "cell_type": "code",
   "execution_count": 65,
   "metadata": {},
   "outputs": [
    {
     "name": "stdout",
     "output_type": "stream",
     "text": [
      "Model: \"model_1\"\n",
      "__________________________________________________________________________________________________\n",
      " Layer (type)                   Output Shape         Param #     Connected to                     \n",
      "==================================================================================================\n",
      " input (InputLayer)             [(None, None)]       0           []                               \n",
      "                                                                                                  \n",
      " embedding_4 (Embedding)        (None, None, 300)    12431100    ['input[0][0]']                  \n",
      "                                                                                                  \n",
      " lstm (LSTM)                    (None, 64)           93440       ['embedding_4[0][0]']            \n",
      "                                                                                                  \n",
      " CS (Dense)                     (None, 1)            65          ['lstm[0][0]']                   \n",
      "                                                                                                  \n",
      " PH (Dense)                     (None, 1)            65          ['lstm[0][0]']                   \n",
      "                                                                                                  \n",
      " MATH (Dense)                   (None, 1)            65          ['lstm[0][0]']                   \n",
      "                                                                                                  \n",
      " STAT (Dense)                   (None, 1)            65          ['lstm[0][0]']                   \n",
      "                                                                                                  \n",
      " QB (Dense)                     (None, 1)            65          ['lstm[0][0]']                   \n",
      "                                                                                                  \n",
      " QF (Dense)                     (None, 1)            65          ['lstm[0][0]']                   \n",
      "                                                                                                  \n",
      "==================================================================================================\n",
      "Total params: 12,524,930\n",
      "Trainable params: 93,830\n",
      "Non-trainable params: 12,431,100\n",
      "__________________________________________________________________________________________________\n"
     ]
    }
   ],
   "source": [
    "model.summary()"
   ]
  },
  {
   "cell_type": "code",
   "execution_count": 66,
   "metadata": {},
   "outputs": [
    {
     "data": {
      "image/png": "[encoded data removed]",
      "text/plain": [
       "<IPython.core.display.Image object>"
      ]
     },
     "execution_count": 66,
     "metadata": {},
     "output_type": "execute_result"
    }
   ],
   "source": [
    "plot_model(model,\"semantic_interactive_learning_lstm_model.png\")"
   ]
  },
  {
   "cell_type": "code",
   "execution_count": 67,
   "metadata": {},
   "outputs": [],
   "source": [
    "model.compile(\n",
    "    optimizer=tf.keras.optimizers.Adam(),\n",
    "    loss=BinaryFocalLoss(gamma=2),\n",
    "    metrics=['accuracy'],)"
   ]
  },
  {
   "cell_type": "code",
   "execution_count": 68,
   "metadata": {},
   "outputs": [
    {
     "name": "stdout",
     "output_type": "stream",
     "text": [
      "Epoch 1/3\n",
      "525/525 [==============================] - 50s 90ms/step - loss: 0.9219 - CS_loss: 0.1702 - PH_loss: 0.1529 - MATH_loss: 0.1487 - STAT_loss: 0.1442 - QB_loss: 0.0417 - QF_loss: 0.0262 - CS_accuracy: 0.5841 - PH_accuracy: 0.7103 - MATH_accuracy: 0.7315 - STAT_accuracy: 0.7519 - QB_accuracy: 0.9707 - QF_accuracy: 0.9849 - val_loss: 0.7283 - val_CS_loss: 0.1701 - val_PH_loss: 0.1533 - val_MATH_loss: 0.1501 - val_STAT_loss: 0.1452 - val_QB_loss: 0.0391 - val_QF_loss: 0.0199 - val_CS_accuracy: 0.5967 - val_PH_accuracy: 0.7077 - val_MATH_accuracy: 0.7259 - val_STAT_accuracy: 0.7452 - val_QB_accuracy: 0.9709 - val_QF_accuracy: 0.9893\n",
      "Epoch 2/3\n",
      "525/525 [==============================] - 53s 101ms/step - loss: 0.7160 - CS_loss: 0.1699 - PH_loss: 0.1520 - MATH_loss: 0.1478 - STAT_loss: 0.1431 - QB_loss: 0.0381 - QF_loss: 0.0220 - CS_accuracy: 0.5886 - PH_accuracy: 0.7147 - MATH_accuracy: 0.7337 - STAT_accuracy: 0.7534 - QB_accuracy: 0.9723 - QF_accuracy: 0.9878 - val_loss: 0.7147 - val_CS_loss: 0.1691 - val_PH_loss: 0.1533 - val_MATH_loss: 0.1495 - val_STAT_loss: 0.1451 - val_QB_loss: 0.0399 - val_QF_loss: 0.0208 - val_CS_accuracy: 0.5967 - val_PH_accuracy: 0.7077 - val_MATH_accuracy: 0.7259 - val_STAT_accuracy: 0.7452 - val_QB_accuracy: 0.9709 - val_QF_accuracy: 0.9893\n",
      "Epoch 3/3\n",
      "525/525 [==============================] - 50s 96ms/step - loss: 0.7070 - CS_loss: 0.1698 - PH_loss: 0.1519 - MATH_loss: 0.1478 - STAT_loss: 0.1430 - QB_loss: 0.0380 - QF_loss: 0.0219 - CS_accuracy: 0.5886 - PH_accuracy: 0.7147 - MATH_accuracy: 0.7337 - STAT_accuracy: 0.7534 - QB_accuracy: 0.9723 - QF_accuracy: 0.9878 - val_loss: 0.7078 - val_CS_loss: 0.1691 - val_PH_loss: 0.1533 - val_MATH_loss: 0.1496 - val_STAT_loss: 0.1451 - val_QB_loss: 0.0386 - val_QF_loss: 0.0197 - val_CS_accuracy: 0.5967 - val_PH_accuracy: 0.7077 - val_MATH_accuracy: 0.7259 - val_STAT_accuracy: 0.7452 - val_QB_accuracy: 0.9709 - val_QF_accuracy: 0.9893\n"
     ]
    }
   ],
   "source": [
    "history = model.fit({\"input\": X_train_seq,}, \n",
    "                    {'CS': y_train.iloc[:,0], 'PH':y_train.iloc[:,1], 'MATH': y_train.iloc[:,2], 'STAT': y_train.iloc[:,3], 'QB': y_train.iloc[:,4], 'QF': y_train.iloc[:,5]},\n",
    "                    epochs = no_of_epochs, \n",
    "                    validation_data =({\"input\": X_test_seq} ,\n",
    "                                     {'CS': y_test.iloc[:,0], 'PH':y_test.iloc[:,1], 'MATH': y_test.iloc[:,2], 'STAT': y_test.iloc[:,3], 'QB': y_test.iloc[:,4], 'QF': y_test.iloc[:,5]}),\n",
    "                    callbacks=early_stopping,\n",
    "                    verbose=True\n",
    "                   )"
   ]
  },
  {
   "cell_type": "code",
   "execution_count": 69,
   "metadata": {},
   "outputs": [
    {
     "data": {
      "image/png": "[encoded data removed]",
      "text/plain": [
       "<Figure size 432x288 with 1 Axes>"
      ]
     },
     "metadata": {},
     "output_type": "display_data"
    }
   ],
   "source": [
    "plt.plot(history.history['loss'])\n",
    "plt.plot(history.history['val_loss'])\n",
    "plt.title('model loss')\n",
    "plt.ylabel('loss')\n",
    "plt.xlabel('epoch')\n",
    "plt.legend(['train', 'test'], loc = 'upper right')\n",
    "plt.show()"
   ]
  },
  {
   "cell_type": "code",
   "execution_count": 70,
   "metadata": {},
   "outputs": [
    {
     "name": "stdout",
     "output_type": "stream",
     "text": [
      "132/132 [==============================] - 6s 43ms/step\n"
     ]
    }
   ],
   "source": [
    "preds = model.predict(X_test_seq)"
   ]
  },
  {
   "cell_type": "code",
   "execution_count": 88,
   "metadata": {},
   "outputs": [
    {
     "name": "stdout",
     "output_type": "stream",
     "text": [
      "132/132 [==============================] - 5s 39ms/step - loss: 1.0202 - CS_loss: 0.1537 - PH_loss: 0.1373 - MATH_loss: 0.1365 - STAT_loss: 0.1335 - QB_loss: 0.2000 - QF_loss: 0.2267 - CS_accuracy: 0.7893 - PH_accuracy: 0.7893 - MATH_accuracy: 0.7893 - STAT_accuracy: 0.7893 - QB_accuracy: 0.7893 - QF_accuracy: 0.7893\n"
     ]
    }
   ],
   "source": [
    "result = model.evaluate(X_test_seq, y_test)"
   ]
  },
  {
   "cell_type": "code",
   "execution_count": 89,
   "metadata": {},
   "outputs": [
    {
     "data": {
      "text/plain": [
       "[1.0201973915100098,\n",
       " 0.1537475287914276,\n",
       " 0.13727273046970367,\n",
       " 0.13647887110710144,\n",
       " 0.1334669291973114,\n",
       " 0.2000381499528885,\n",
       " 0.22672773897647858,\n",
       " 0.7892730236053467,\n",
       " 0.7892730236053467,\n",
       " 0.7892730236053467,\n",
       " 0.7892730236053467,\n",
       " 0.7892730236053467,\n",
       " 0.7892730236053467]"
      ]
     },
     "execution_count": 89,
     "metadata": {},
     "output_type": "execute_result"
    }
   ],
   "source": [
    "result"
   ]
  },
  {
   "cell_type": "code",
   "execution_count": null,
   "metadata": {},
   "outputs": [],
   "source": []
  }
 ],
 "metadata": {
  "kernelspec": {
   "display_name": "Python 3 (ipykernel)",
   "language": "python",
   "name": "python3"
  },
  "language_info": {
   "codemirror_mode": {
    "name": "ipython",
    "version": 3
   },
   "file_extension": ".py",
   "mimetype": "text/x-python",
   "name": "python",
   "nbconvert_exporter": "python",
   "pygments_lexer": "ipython3",
   "version": "3.8.5"
  }
 },
 "nbformat": 4,
 "nbformat_minor": 4
}
